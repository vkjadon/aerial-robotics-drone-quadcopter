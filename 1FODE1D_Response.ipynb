{
  "nbformat": 4,
  "nbformat_minor": 0,
  "metadata": {
    "colab": {
      "provenance": [],
      "authorship_tag": "ABX9TyO5GpusF/Q/uh+kpmJW2ksJ",
      "include_colab_link": true
    },
    "kernelspec": {
      "name": "python3",
      "display_name": "Python 3"
    },
    "language_info": {
      "name": "python"
    }
  },
  "cells": [
    {
      "cell_type": "markdown",
      "metadata": {
        "id": "view-in-github",
        "colab_type": "text"
      },
      "source": [
        "<a href=\"https://colab.research.google.com/github/vkjadon/aerial-robotics-drone-quadcopter-ipynb/blob/main/1FODE1D_Response.ipynb\" target=\"_parent\"><img src=\"https://colab.research.google.com/assets/colab-badge.svg\" alt=\"Open In Colab\"/></a>"
      ]
    },
    {
      "cell_type": "code",
      "execution_count": null,
      "metadata": {
        "id": "NcBBsM4lLxfk"
      },
      "outputs": [],
      "source": [
        "import numpy as np\n",
        "import matplotlib.pyplot as plt\n",
        "from scipy.integrate import odeint\n",
        "\n",
        "\n",
        "# dy_dt=(u1-ky)/tau\n",
        "\n",
        "# define model\n",
        "def model(y,t,u):\n",
        "    k=1.5\n",
        "    tau=10.0\n",
        "    dy_dt = (1.0/tau)*(u-k*y)\n",
        "    return dy_dt\n",
        "\n",
        "tf=60.0                       # final time for simulation\n",
        "numbers=61                    # number of time steps\n",
        "#delta_t=tf/(nsteps-1)        # how long is each time step?\n",
        "ts=np.linspace(0,tf,numbers)   # linearly spaced time vector\n",
        "\n",
        "print(ts)\n",
        "\n",
        "# velocity initial condition\n",
        "y0=0.0\n",
        "u=10.0\n",
        "# for solving simulate with ODEINT\n",
        "\n",
        "sol=odeint(model,y0,ts,args=(u,))\n",
        "\n",
        "# plot results\n",
        "plt.plot(ts,sol)\n",
        "plt.xlabel('Time')\n",
        "plt.ylabel('Response')\n",
        "plt.show()\n"
      ]
    }
  ]
}