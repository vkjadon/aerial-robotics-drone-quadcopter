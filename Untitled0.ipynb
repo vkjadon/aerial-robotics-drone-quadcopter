{
  "nbformat": 4,
  "nbformat_minor": 0,
  "metadata": {
    "colab": {
      "provenance": [],
      "authorship_tag": "ABX9TyPnQRkouIAoX6QGL8HnJjCA",
      "include_colab_link": true
    },
    "kernelspec": {
      "name": "python3",
      "display_name": "Python 3"
    },
    "language_info": {
      "name": "python"
    }
  },
  "cells": [
    {
      "cell_type": "markdown",
      "metadata": {
        "id": "view-in-github",
        "colab_type": "text"
      },
      "source": [
        "<a href=\"https://colab.research.google.com/github/vkjadon/aerial-robotics-drone-quadcopter-ipynb/blob/main/Untitled0.ipynb\" target=\"_parent\"><img src=\"https://colab.research.google.com/assets/colab-badge.svg\" alt=\"Open In Colab\"/></a>"
      ]
    },
    {
      "cell_type": "code",
      "execution_count": 1,
      "metadata": {
        "colab": {
          "base_uri": "https://localhost:8080/",
          "height": 315
        },
        "id": "XefMkILrINqw",
        "outputId": "c62419ee-0cd9-4240-e337-f7ba76a0c841"
      },
      "outputs": [
        {
          "output_type": "stream",
          "name": "stdout",
          "text": [
            "50.0\n",
            "100.0\n"
          ]
        },
        {
          "output_type": "display_data",
          "data": {
            "text/plain": [
              "<Figure size 432x288 with 1 Axes>"
            ],
            "image/png": "[encoded data removed]"
          },
          "metadata": {
            "needs_background": "light"
          }
        }
      ],
      "source": [
        "import numpy as np\n",
        "import matplotlib.pyplot as plt\n",
        "from scipy.integrate import odeint\n",
        "\n",
        "\n",
        "# x_dot=f(x,u) or  x_dot=(c/m).u\n",
        "# x_k+1=x_k+deltaT*x_dot_k\n",
        "\n",
        "c_m=1.0\n",
        "\n",
        "# define model\n",
        "def model(y,t,u):\n",
        "    x_dot = c_m*u\n",
        "    return x_dot\n",
        "\n",
        "tf = 10.0                 # final time for simulation\n",
        "nsteps = 3               # number of time steps\n",
        "deltaT=tf/(nsteps-1)\n",
        "ts = np.linspace(0,tf,nsteps) # linearly spaced time vector\n",
        "\n",
        "\n",
        "# initial condition\n",
        "y0 = 0.0\n",
        "u = 10.0\n",
        "\n",
        "# Using odeint\n",
        "sol = odeint(model,y0,ts,args=(u,))\n",
        "\n",
        "# Using discrete time Domain\n",
        "\n",
        "for t in range(1,nsteps):\n",
        "    time=t\n",
        "    x=y0+(deltaT)*c_m*u\n",
        "    y0=x\n",
        "    print(x)\n",
        "\n",
        "# simulate with ODEINT\n",
        "\n",
        "    # plot results\n",
        "plt.plot(ts,sol)\n",
        "plt.xlabel('Time')\n",
        "plt.ylabel('Response')\n",
        "plt.show()\n"
      ]
    }
  ]
}